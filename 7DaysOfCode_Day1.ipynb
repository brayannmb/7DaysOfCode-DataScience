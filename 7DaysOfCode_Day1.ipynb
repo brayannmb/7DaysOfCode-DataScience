{
  "nbformat": 4,
  "nbformat_minor": 0,
  "metadata": {
    "colab": {
      "name": "7DaysOfCode_Day1.ipynb",
      "provenance": [],
      "collapsed_sections": [],
      "authorship_tag": "ABX9TyNippm04McPI/Fm+te4hdc+",
      "include_colab_link": true
    },
    "kernelspec": {
      "name": "python3",
      "display_name": "Python 3"
    },
    "language_info": {
      "name": "python"
    }
  },
  "cells": [
    {
      "cell_type": "markdown",
      "metadata": {
        "id": "view-in-github",
        "colab_type": "text"
      },
      "source": [
        "<a href=\"https://colab.research.google.com/github/brayannmb/7DaysOfCode-DataScience/blob/main/7DaysOfCode_Day1.ipynb\" target=\"_parent\"><img src=\"https://colab.research.google.com/assets/colab-badge.svg\" alt=\"Open In Colab\"/></a>"
      ]
    },
    {
      "cell_type": "markdown",
      "source": [
        "#**Desafio 7 Days of Code - Alura**\n",
        "\n",
        "Desafio aceito! \n",
        "\n",
        "Costumo acompanhar as iniciativas da Alura nas redes sociais e me interesso por novos desafios, ainda mais quando vem diretamente do mestre Paulo Vasconcellos.\n",
        "\n",
        "No dia 01, o desafio está em fazer a limpeza dos dados do portal [CEAPS](https://www12.senado.leg.br/transparencia/dados-abertos-transparencia/dados-abertos-ceaps?utm_source=ActiveCampaign&utm_medium=email&utm_content=%237DaysOfCode+-+Ci%C3%AAncia+de+Dados+1%2F7%3A+Data+Cleaning+and+Preparation&utm_campaign=%5BAlura+%237Days+Of+Code%5D%28Java%29+Dia+1%2F7%3A+Consumir+uma+API+de+filmes) (Cota para Exercício da Atividade Parlamentar dos Senadores). Este portal contém as informações sobre as declarações dos senadores no Brasil. "
      ],
      "metadata": {
        "id": "1bzmR554K_DJ"
      }
    },
    {
      "cell_type": "code",
      "source": [
        "import pandas as pd"
      ],
      "metadata": {
        "id": "7MkGhiZCM1ZH"
      },
      "execution_count": 1,
      "outputs": []
    },
    {
      "cell_type": "code",
      "source": [
        "df_2022 = pd.read_csv('https://raw.githubusercontent.com/brayannmb/7DaysOfCode-DataScience/main/despesa_ceaps_2022.csv', encoding='1252', sep=';', header=1)"
      ],
      "metadata": {
        "id": "jgfi9fJzJ7GU"
      },
      "execution_count": 2,
      "outputs": []
    },
    {
      "cell_type": "markdown",
      "source": [
        "Para poder utilizar o cabeçalho corretamente, foi necessário incluir o parâmetro `header` e escolher a segunda linha do dataframe original."
      ],
      "metadata": {
        "id": "-lEGkyUjjs_H"
      }
    },
    {
      "cell_type": "code",
      "source": [
        "df_2022.head()"
      ],
      "metadata": {
        "colab": {
          "base_uri": "https://localhost:8080/",
          "height": 458
        },
        "id": "v8vVvh6LfkoS",
        "outputId": "2a175142-ccb4-478d-e76f-e337e98c027b"
      },
      "execution_count": 3,
      "outputs": [
        {
          "output_type": "execute_result",
          "data": {
            "text/plain": [
              "    ANO  MES       SENADOR                                       TIPO_DESPESA  \\\n",
              "0  2022    1  ACIR GURGACZ  Aluguel de imóveis para escritório político, c...   \n",
              "1  2022    1  ACIR GURGACZ                Divulgação da atividade parlamentar   \n",
              "2  2022    1  ACIR GURGACZ                Divulgação da atividade parlamentar   \n",
              "3  2022    1  ACIR GURGACZ                Divulgação da atividade parlamentar   \n",
              "4  2022    1  ACIR GURGACZ                Divulgação da atividade parlamentar   \n",
              "\n",
              "             CNPJ_CPF                                         FORNECEDOR  \\\n",
              "0      004.948.028-63                      GILBERTO PISELO DO NASCIMENTO   \n",
              "1  26.320.603/0001-64                                      INFORMANAHORA   \n",
              "2  13.659.201/0001-47                    LINHA PURPURA FOTO E VIDEO LTDA   \n",
              "3  23.652.846/0001-01                  ROBERTO GUTIERREZ DA ROCHA M.E.I.   \n",
              "4  08.941.827/0001-01  RONDONIA DINÂMICA COM. E SERV. DE INFORMÁTICA ...   \n",
              "\n",
              "           DOCUMENTO        DATA  \\\n",
              "0             001/22  03/01/2022   \n",
              "1  000000000000310/A  04/01/2022   \n",
              "2                107  14/01/2022   \n",
              "3                187  18/01/2022   \n",
              "4  000000000001772/A  17/01/2022   \n",
              "\n",
              "                                        DETALHAMENTO VALOR_REEMBOLSADO  \\\n",
              "0  Despesa com pagamento de aluguel de imóvel par...              6000   \n",
              "1  Despesa com divulgação da atividade parlamenta...              1500   \n",
              "2  Despesa com produção de texto e edição de víde...              6000   \n",
              "3                Divulgação da atividade parlamentar              1000   \n",
              "4                Divulgação da atividade parlamentar              2000   \n",
              "\n",
              "   COD_DOCUMENTO  \n",
              "0        2173614  \n",
              "1        2173615  \n",
              "2        2173616  \n",
              "3        2173618  \n",
              "4        2173617  "
            ],
            "text/html": [
              "\n",
              "  <div id=\"df-ab61ccf1-6712-4414-9851-33a967bbfde6\">\n",
              "    <div class=\"colab-df-container\">\n",
              "      <div>\n",
              "<style scoped>\n",
              "    .dataframe tbody tr th:only-of-type {\n",
              "        vertical-align: middle;\n",
              "    }\n",
              "\n",
              "    .dataframe tbody tr th {\n",
              "        vertical-align: top;\n",
              "    }\n",
              "\n",
              "    .dataframe thead th {\n",
              "        text-align: right;\n",
              "    }\n",
              "</style>\n",
              "<table border=\"1\" class=\"dataframe\">\n",
              "  <thead>\n",
              "    <tr style=\"text-align: right;\">\n",
              "      <th></th>\n",
              "      <th>ANO</th>\n",
              "      <th>MES</th>\n",
              "      <th>SENADOR</th>\n",
              "      <th>TIPO_DESPESA</th>\n",
              "      <th>CNPJ_CPF</th>\n",
              "      <th>FORNECEDOR</th>\n",
              "      <th>DOCUMENTO</th>\n",
              "      <th>DATA</th>\n",
              "      <th>DETALHAMENTO</th>\n",
              "      <th>VALOR_REEMBOLSADO</th>\n",
              "      <th>COD_DOCUMENTO</th>\n",
              "    </tr>\n",
              "  </thead>\n",
              "  <tbody>\n",
              "    <tr>\n",
              "      <th>0</th>\n",
              "      <td>2022</td>\n",
              "      <td>1</td>\n",
              "      <td>ACIR GURGACZ</td>\n",
              "      <td>Aluguel de imóveis para escritório político, c...</td>\n",
              "      <td>004.948.028-63</td>\n",
              "      <td>GILBERTO PISELO DO NASCIMENTO</td>\n",
              "      <td>001/22</td>\n",
              "      <td>03/01/2022</td>\n",
              "      <td>Despesa com pagamento de aluguel de imóvel par...</td>\n",
              "      <td>6000</td>\n",
              "      <td>2173614</td>\n",
              "    </tr>\n",
              "    <tr>\n",
              "      <th>1</th>\n",
              "      <td>2022</td>\n",
              "      <td>1</td>\n",
              "      <td>ACIR GURGACZ</td>\n",
              "      <td>Divulgação da atividade parlamentar</td>\n",
              "      <td>26.320.603/0001-64</td>\n",
              "      <td>INFORMANAHORA</td>\n",
              "      <td>000000000000310/A</td>\n",
              "      <td>04/01/2022</td>\n",
              "      <td>Despesa com divulgação da atividade parlamenta...</td>\n",
              "      <td>1500</td>\n",
              "      <td>2173615</td>\n",
              "    </tr>\n",
              "    <tr>\n",
              "      <th>2</th>\n",
              "      <td>2022</td>\n",
              "      <td>1</td>\n",
              "      <td>ACIR GURGACZ</td>\n",
              "      <td>Divulgação da atividade parlamentar</td>\n",
              "      <td>13.659.201/0001-47</td>\n",
              "      <td>LINHA PURPURA FOTO E VIDEO LTDA</td>\n",
              "      <td>107</td>\n",
              "      <td>14/01/2022</td>\n",
              "      <td>Despesa com produção de texto e edição de víde...</td>\n",
              "      <td>6000</td>\n",
              "      <td>2173616</td>\n",
              "    </tr>\n",
              "    <tr>\n",
              "      <th>3</th>\n",
              "      <td>2022</td>\n",
              "      <td>1</td>\n",
              "      <td>ACIR GURGACZ</td>\n",
              "      <td>Divulgação da atividade parlamentar</td>\n",
              "      <td>23.652.846/0001-01</td>\n",
              "      <td>ROBERTO GUTIERREZ DA ROCHA M.E.I.</td>\n",
              "      <td>187</td>\n",
              "      <td>18/01/2022</td>\n",
              "      <td>Divulgação da atividade parlamentar</td>\n",
              "      <td>1000</td>\n",
              "      <td>2173618</td>\n",
              "    </tr>\n",
              "    <tr>\n",
              "      <th>4</th>\n",
              "      <td>2022</td>\n",
              "      <td>1</td>\n",
              "      <td>ACIR GURGACZ</td>\n",
              "      <td>Divulgação da atividade parlamentar</td>\n",
              "      <td>08.941.827/0001-01</td>\n",
              "      <td>RONDONIA DINÂMICA COM. E SERV. DE INFORMÁTICA ...</td>\n",
              "      <td>000000000001772/A</td>\n",
              "      <td>17/01/2022</td>\n",
              "      <td>Divulgação da atividade parlamentar</td>\n",
              "      <td>2000</td>\n",
              "      <td>2173617</td>\n",
              "    </tr>\n",
              "  </tbody>\n",
              "</table>\n",
              "</div>\n",
              "      <button class=\"colab-df-convert\" onclick=\"convertToInteractive('df-ab61ccf1-6712-4414-9851-33a967bbfde6')\"\n",
              "              title=\"Convert this dataframe to an interactive table.\"\n",
              "              style=\"display:none;\">\n",
              "        \n",
              "  <svg xmlns=\"http://www.w3.org/2000/svg\" height=\"24px\"viewBox=\"0 0 24 24\"\n",
              "       width=\"24px\">\n",
              "    <path d=\"M0 0h24v24H0V0z\" fill=\"none\"/>\n",
              "    <path d=\"M18.56 5.44l.94 2.06.94-2.06 2.06-.94-2.06-.94-.94-2.06-.94 2.06-2.06.94zm-11 1L8.5 8.5l.94-2.06 2.06-.94-2.06-.94L8.5 2.5l-.94 2.06-2.06.94zm10 10l.94 2.06.94-2.06 2.06-.94-2.06-.94-.94-2.06-.94 2.06-2.06.94z\"/><path d=\"M17.41 7.96l-1.37-1.37c-.4-.4-.92-.59-1.43-.59-.52 0-1.04.2-1.43.59L10.3 9.45l-7.72 7.72c-.78.78-.78 2.05 0 2.83L4 21.41c.39.39.9.59 1.41.59.51 0 1.02-.2 1.41-.59l7.78-7.78 2.81-2.81c.8-.78.8-2.07 0-2.86zM5.41 20L4 18.59l7.72-7.72 1.47 1.35L5.41 20z\"/>\n",
              "  </svg>\n",
              "      </button>\n",
              "      \n",
              "  <style>\n",
              "    .colab-df-container {\n",
              "      display:flex;\n",
              "      flex-wrap:wrap;\n",
              "      gap: 12px;\n",
              "    }\n",
              "\n",
              "    .colab-df-convert {\n",
              "      background-color: #E8F0FE;\n",
              "      border: none;\n",
              "      border-radius: 50%;\n",
              "      cursor: pointer;\n",
              "      display: none;\n",
              "      fill: #1967D2;\n",
              "      height: 32px;\n",
              "      padding: 0 0 0 0;\n",
              "      width: 32px;\n",
              "    }\n",
              "\n",
              "    .colab-df-convert:hover {\n",
              "      background-color: #E2EBFA;\n",
              "      box-shadow: 0px 1px 2px rgba(60, 64, 67, 0.3), 0px 1px 3px 1px rgba(60, 64, 67, 0.15);\n",
              "      fill: #174EA6;\n",
              "    }\n",
              "\n",
              "    [theme=dark] .colab-df-convert {\n",
              "      background-color: #3B4455;\n",
              "      fill: #D2E3FC;\n",
              "    }\n",
              "\n",
              "    [theme=dark] .colab-df-convert:hover {\n",
              "      background-color: #434B5C;\n",
              "      box-shadow: 0px 1px 3px 1px rgba(0, 0, 0, 0.15);\n",
              "      filter: drop-shadow(0px 1px 2px rgba(0, 0, 0, 0.3));\n",
              "      fill: #FFFFFF;\n",
              "    }\n",
              "  </style>\n",
              "\n",
              "      <script>\n",
              "        const buttonEl =\n",
              "          document.querySelector('#df-ab61ccf1-6712-4414-9851-33a967bbfde6 button.colab-df-convert');\n",
              "        buttonEl.style.display =\n",
              "          google.colab.kernel.accessAllowed ? 'block' : 'none';\n",
              "\n",
              "        async function convertToInteractive(key) {\n",
              "          const element = document.querySelector('#df-ab61ccf1-6712-4414-9851-33a967bbfde6');\n",
              "          const dataTable =\n",
              "            await google.colab.kernel.invokeFunction('convertToInteractive',\n",
              "                                                     [key], {});\n",
              "          if (!dataTable) return;\n",
              "\n",
              "          const docLinkHtml = 'Like what you see? Visit the ' +\n",
              "            '<a target=\"_blank\" href=https://colab.research.google.com/notebooks/data_table.ipynb>data table notebook</a>'\n",
              "            + ' to learn more about interactive tables.';\n",
              "          element.innerHTML = '';\n",
              "          dataTable['output_type'] = 'display_data';\n",
              "          await google.colab.output.renderOutput(dataTable, element);\n",
              "          const docLink = document.createElement('div');\n",
              "          docLink.innerHTML = docLinkHtml;\n",
              "          element.appendChild(docLink);\n",
              "        }\n",
              "      </script>\n",
              "    </div>\n",
              "  </div>\n",
              "  "
            ]
          },
          "metadata": {},
          "execution_count": 3
        }
      ]
    },
    {
      "cell_type": "code",
      "source": [
        "df_2022.tail()"
      ],
      "metadata": {
        "colab": {
          "base_uri": "https://localhost:8080/",
          "height": 424
        },
        "id": "KWv0645shMfn",
        "outputId": "1f9ece18-52d9-49c6-924e-fae02bb14dec"
      },
      "execution_count": 4,
      "outputs": [
        {
          "output_type": "execute_result",
          "data": {
            "text/plain": [
              "       ANO  MES           SENADOR  \\\n",
              "7038  2022    5  ZEQUINHA MARINHO   \n",
              "7039  2022    5  ZEQUINHA MARINHO   \n",
              "7040  2022    5  ZEQUINHA MARINHO   \n",
              "7041  2022    5  ZEQUINHA MARINHO   \n",
              "7042  2022    5  ZEQUINHA MARINHO   \n",
              "\n",
              "                                           TIPO_DESPESA            CNPJ_CPF  \\\n",
              "7038  Passagens aéreas, aquáticas e terrestres nacio...  22.052.777/0001-32   \n",
              "7039  Passagens aéreas, aquáticas e terrestres nacio...  22.052.777/0001-32   \n",
              "7040  Passagens aéreas, aquáticas e terrestres nacio...  22.052.777/0001-32   \n",
              "7041  Passagens aéreas, aquáticas e terrestres nacio...  22.052.777/0001-32   \n",
              "7042  Passagens aéreas, aquáticas e terrestres nacio...  22.052.777/0001-32   \n",
              "\n",
              "         FORNECEDOR DOCUMENTO        DATA  \\\n",
              "7038  Exceller Tour    WRREKJ  17/05/2022   \n",
              "7039  Exceller Tour    SKP1MQ  17/05/2022   \n",
              "7040  Exceller Tour    WWDZKA  18/05/2022   \n",
              "7041  Exceller Tour    FMDGER  25/05/2022   \n",
              "7042  Exceller Tour    CXFMUH  27/05/2022   \n",
              "\n",
              "                                           DETALHAMENTO VALOR_REEMBOLSADO  \\\n",
              "7038  Companhia Aérea: GOL, Localizador: WRREKJ. Pas...           2184,54   \n",
              "7039  Companhia Aérea: AZUL, Localizador: SKP1MQ. Pa...           2903,15   \n",
              "7040  Companhia Aérea: GOL, Localizador: WWDZKA. Pas...           3104,87   \n",
              "7041  Companhia Aérea: GOL, Localizador: FMDGER. Pas...           2809,47   \n",
              "7042  Companhia Aérea: GOL, Localizador: CXFMUH. Pas...            925,62   \n",
              "\n",
              "      COD_DOCUMENTO  \n",
              "7038        2180363  \n",
              "7039        2180365  \n",
              "7040        2180451  \n",
              "7041        2180810  \n",
              "7042        2181308  "
            ],
            "text/html": [
              "\n",
              "  <div id=\"df-fe2cc40f-fe55-4f05-ae8a-ff65e4e962ad\">\n",
              "    <div class=\"colab-df-container\">\n",
              "      <div>\n",
              "<style scoped>\n",
              "    .dataframe tbody tr th:only-of-type {\n",
              "        vertical-align: middle;\n",
              "    }\n",
              "\n",
              "    .dataframe tbody tr th {\n",
              "        vertical-align: top;\n",
              "    }\n",
              "\n",
              "    .dataframe thead th {\n",
              "        text-align: right;\n",
              "    }\n",
              "</style>\n",
              "<table border=\"1\" class=\"dataframe\">\n",
              "  <thead>\n",
              "    <tr style=\"text-align: right;\">\n",
              "      <th></th>\n",
              "      <th>ANO</th>\n",
              "      <th>MES</th>\n",
              "      <th>SENADOR</th>\n",
              "      <th>TIPO_DESPESA</th>\n",
              "      <th>CNPJ_CPF</th>\n",
              "      <th>FORNECEDOR</th>\n",
              "      <th>DOCUMENTO</th>\n",
              "      <th>DATA</th>\n",
              "      <th>DETALHAMENTO</th>\n",
              "      <th>VALOR_REEMBOLSADO</th>\n",
              "      <th>COD_DOCUMENTO</th>\n",
              "    </tr>\n",
              "  </thead>\n",
              "  <tbody>\n",
              "    <tr>\n",
              "      <th>7038</th>\n",
              "      <td>2022</td>\n",
              "      <td>5</td>\n",
              "      <td>ZEQUINHA MARINHO</td>\n",
              "      <td>Passagens aéreas, aquáticas e terrestres nacio...</td>\n",
              "      <td>22.052.777/0001-32</td>\n",
              "      <td>Exceller Tour</td>\n",
              "      <td>WRREKJ</td>\n",
              "      <td>17/05/2022</td>\n",
              "      <td>Companhia Aérea: GOL, Localizador: WRREKJ. Pas...</td>\n",
              "      <td>2184,54</td>\n",
              "      <td>2180363</td>\n",
              "    </tr>\n",
              "    <tr>\n",
              "      <th>7039</th>\n",
              "      <td>2022</td>\n",
              "      <td>5</td>\n",
              "      <td>ZEQUINHA MARINHO</td>\n",
              "      <td>Passagens aéreas, aquáticas e terrestres nacio...</td>\n",
              "      <td>22.052.777/0001-32</td>\n",
              "      <td>Exceller Tour</td>\n",
              "      <td>SKP1MQ</td>\n",
              "      <td>17/05/2022</td>\n",
              "      <td>Companhia Aérea: AZUL, Localizador: SKP1MQ. Pa...</td>\n",
              "      <td>2903,15</td>\n",
              "      <td>2180365</td>\n",
              "    </tr>\n",
              "    <tr>\n",
              "      <th>7040</th>\n",
              "      <td>2022</td>\n",
              "      <td>5</td>\n",
              "      <td>ZEQUINHA MARINHO</td>\n",
              "      <td>Passagens aéreas, aquáticas e terrestres nacio...</td>\n",
              "      <td>22.052.777/0001-32</td>\n",
              "      <td>Exceller Tour</td>\n",
              "      <td>WWDZKA</td>\n",
              "      <td>18/05/2022</td>\n",
              "      <td>Companhia Aérea: GOL, Localizador: WWDZKA. Pas...</td>\n",
              "      <td>3104,87</td>\n",
              "      <td>2180451</td>\n",
              "    </tr>\n",
              "    <tr>\n",
              "      <th>7041</th>\n",
              "      <td>2022</td>\n",
              "      <td>5</td>\n",
              "      <td>ZEQUINHA MARINHO</td>\n",
              "      <td>Passagens aéreas, aquáticas e terrestres nacio...</td>\n",
              "      <td>22.052.777/0001-32</td>\n",
              "      <td>Exceller Tour</td>\n",
              "      <td>FMDGER</td>\n",
              "      <td>25/05/2022</td>\n",
              "      <td>Companhia Aérea: GOL, Localizador: FMDGER. Pas...</td>\n",
              "      <td>2809,47</td>\n",
              "      <td>2180810</td>\n",
              "    </tr>\n",
              "    <tr>\n",
              "      <th>7042</th>\n",
              "      <td>2022</td>\n",
              "      <td>5</td>\n",
              "      <td>ZEQUINHA MARINHO</td>\n",
              "      <td>Passagens aéreas, aquáticas e terrestres nacio...</td>\n",
              "      <td>22.052.777/0001-32</td>\n",
              "      <td>Exceller Tour</td>\n",
              "      <td>CXFMUH</td>\n",
              "      <td>27/05/2022</td>\n",
              "      <td>Companhia Aérea: GOL, Localizador: CXFMUH. Pas...</td>\n",
              "      <td>925,62</td>\n",
              "      <td>2181308</td>\n",
              "    </tr>\n",
              "  </tbody>\n",
              "</table>\n",
              "</div>\n",
              "      <button class=\"colab-df-convert\" onclick=\"convertToInteractive('df-fe2cc40f-fe55-4f05-ae8a-ff65e4e962ad')\"\n",
              "              title=\"Convert this dataframe to an interactive table.\"\n",
              "              style=\"display:none;\">\n",
              "        \n",
              "  <svg xmlns=\"http://www.w3.org/2000/svg\" height=\"24px\"viewBox=\"0 0 24 24\"\n",
              "       width=\"24px\">\n",
              "    <path d=\"M0 0h24v24H0V0z\" fill=\"none\"/>\n",
              "    <path d=\"M18.56 5.44l.94 2.06.94-2.06 2.06-.94-2.06-.94-.94-2.06-.94 2.06-2.06.94zm-11 1L8.5 8.5l.94-2.06 2.06-.94-2.06-.94L8.5 2.5l-.94 2.06-2.06.94zm10 10l.94 2.06.94-2.06 2.06-.94-2.06-.94-.94-2.06-.94 2.06-2.06.94z\"/><path d=\"M17.41 7.96l-1.37-1.37c-.4-.4-.92-.59-1.43-.59-.52 0-1.04.2-1.43.59L10.3 9.45l-7.72 7.72c-.78.78-.78 2.05 0 2.83L4 21.41c.39.39.9.59 1.41.59.51 0 1.02-.2 1.41-.59l7.78-7.78 2.81-2.81c.8-.78.8-2.07 0-2.86zM5.41 20L4 18.59l7.72-7.72 1.47 1.35L5.41 20z\"/>\n",
              "  </svg>\n",
              "      </button>\n",
              "      \n",
              "  <style>\n",
              "    .colab-df-container {\n",
              "      display:flex;\n",
              "      flex-wrap:wrap;\n",
              "      gap: 12px;\n",
              "    }\n",
              "\n",
              "    .colab-df-convert {\n",
              "      background-color: #E8F0FE;\n",
              "      border: none;\n",
              "      border-radius: 50%;\n",
              "      cursor: pointer;\n",
              "      display: none;\n",
              "      fill: #1967D2;\n",
              "      height: 32px;\n",
              "      padding: 0 0 0 0;\n",
              "      width: 32px;\n",
              "    }\n",
              "\n",
              "    .colab-df-convert:hover {\n",
              "      background-color: #E2EBFA;\n",
              "      box-shadow: 0px 1px 2px rgba(60, 64, 67, 0.3), 0px 1px 3px 1px rgba(60, 64, 67, 0.15);\n",
              "      fill: #174EA6;\n",
              "    }\n",
              "\n",
              "    [theme=dark] .colab-df-convert {\n",
              "      background-color: #3B4455;\n",
              "      fill: #D2E3FC;\n",
              "    }\n",
              "\n",
              "    [theme=dark] .colab-df-convert:hover {\n",
              "      background-color: #434B5C;\n",
              "      box-shadow: 0px 1px 3px 1px rgba(0, 0, 0, 0.15);\n",
              "      filter: drop-shadow(0px 1px 2px rgba(0, 0, 0, 0.3));\n",
              "      fill: #FFFFFF;\n",
              "    }\n",
              "  </style>\n",
              "\n",
              "      <script>\n",
              "        const buttonEl =\n",
              "          document.querySelector('#df-fe2cc40f-fe55-4f05-ae8a-ff65e4e962ad button.colab-df-convert');\n",
              "        buttonEl.style.display =\n",
              "          google.colab.kernel.accessAllowed ? 'block' : 'none';\n",
              "\n",
              "        async function convertToInteractive(key) {\n",
              "          const element = document.querySelector('#df-fe2cc40f-fe55-4f05-ae8a-ff65e4e962ad');\n",
              "          const dataTable =\n",
              "            await google.colab.kernel.invokeFunction('convertToInteractive',\n",
              "                                                     [key], {});\n",
              "          if (!dataTable) return;\n",
              "\n",
              "          const docLinkHtml = 'Like what you see? Visit the ' +\n",
              "            '<a target=\"_blank\" href=https://colab.research.google.com/notebooks/data_table.ipynb>data table notebook</a>'\n",
              "            + ' to learn more about interactive tables.';\n",
              "          element.innerHTML = '';\n",
              "          dataTable['output_type'] = 'display_data';\n",
              "          await google.colab.output.renderOutput(dataTable, element);\n",
              "          const docLink = document.createElement('div');\n",
              "          docLink.innerHTML = docLinkHtml;\n",
              "          element.appendChild(docLink);\n",
              "        }\n",
              "      </script>\n",
              "    </div>\n",
              "  </div>\n",
              "  "
            ]
          },
          "metadata": {},
          "execution_count": 4
        }
      ]
    },
    {
      "cell_type": "code",
      "source": [
        "df_2022.sample(10)"
      ],
      "metadata": {
        "colab": {
          "base_uri": "https://localhost:8080/",
          "height": 858
        },
        "id": "WL6QkFdihQDJ",
        "outputId": "27e4d95b-2692-4ab5-ac7b-04fa758e1312"
      },
      "execution_count": 5,
      "outputs": [
        {
          "output_type": "execute_result",
          "data": {
            "text/plain": [
              "       ANO  MES                  SENADOR  \\\n",
              "3947  2022    5           LASIER MARTINS   \n",
              "5278  2022    5           PLÍNIO VALÉRIO   \n",
              "6495  2022    1      WELLINGTON FAGUNDES   \n",
              "229   2022    4       ALEXANDRE SILVEIRA   \n",
              "2669  2022    3                 GIORDANO   \n",
              "6485  2022    4  VENEZIANO VITAL DO RÊGO   \n",
              "288   2022    2           ANGELO CORONEL   \n",
              "2800  2022    3           HUMBERTO COSTA   \n",
              "1053  2022    4           CONFÚCIO MOURA   \n",
              "5049  2022    3               PAULO PAIM   \n",
              "\n",
              "                                           TIPO_DESPESA            CNPJ_CPF  \\\n",
              "3947  Passagens aéreas, aquáticas e terrestres nacio...  07.575.651/0001-59   \n",
              "5278  Passagens aéreas, aquáticas e terrestres nacio...  16.978.175/0001-08   \n",
              "6495  Aquisição de material de consumo para uso no e...  18.804.888/0001-80   \n",
              "229   Aluguel de imóveis para escritório político, c...  40.432.544/0112-62   \n",
              "2669  Locomoção, hospedagem, alimentação, combustíve...  33.812.076/0001-70   \n",
              "6485  Passagens aéreas, aquáticas e terrestres nacio...  07.575.651/0001-59   \n",
              "288   Aluguel de imóveis para escritório político, c...  35.184.919/0001-67   \n",
              "2800  Locomoção, hospedagem, alimentação, combustíve...  34.256.587/0001-16   \n",
              "1053                Divulgação da atividade parlamentar  30.673.595/0001-07   \n",
              "5049  Locomoção, hospedagem, alimentação, combustíve...  09.146.749/0001-16   \n",
              "\n",
              "                                             FORNECEDOR        DOCUMENTO  \\\n",
              "3947                                                GOL           LUDZRW   \n",
              "5278                            ADRIA VIAGENS E TURISMO           YJRBLI   \n",
              "6495  Brasil One Serviços de Tecnologia da Informaçã...              236   \n",
              "229                                           CLARO S.A    2205901732793   \n",
              "2669                            Pizzaria Bella Forneira              NaN   \n",
              "6485                                                GOL           IXHURH   \n",
              "288                    JCAR Locadora de Automóveis Ltda  202200000000004   \n",
              "2800                 Bardana Cozinha e Restaurante Ltda            53323   \n",
              "1053                             AMAURI DE SOUZA JUNIOR              331   \n",
              "5049                    Autolocadora Linck e Mello Ltda            22904   \n",
              "\n",
              "            DATA                                       DETALHAMENTO  \\\n",
              "3947  13/05/2022  Companhia Aérea: GOL, Localizador: LUDZRW. Pas...   \n",
              "5278  19/05/2022  Companhia Aérea: GOL, Localizador: YJRBLI. Pas...   \n",
              "6495  03/03/2022  Despesa com serviços de informática, referente...   \n",
              "229   04/05/2022                                                NaN   \n",
              "2669  29/03/2022                                                NaN   \n",
              "6485  13/04/2022  Companhia Aérea: GOL, Localizador: IXHURH. Pas...   \n",
              "288   01/03/2022  Locacao de carro de apoio a atividade parlamen...   \n",
              "2800  30/03/2022        Despesa com alimentação para o parlamentar.   \n",
              "1053  27/04/2022  Despesa com prestação de serviços de marketing...   \n",
              "5049  06/04/2022  Locação de veículo - carro utilizado no exercí...   \n",
              "\n",
              "     VALOR_REEMBOLSADO  COD_DOCUMENTO  \n",
              "3947           2225,67        2181640  \n",
              "5278           3477,17        2180732  \n",
              "6495              3820        2175452  \n",
              "229             421,79        2179929  \n",
              "2669               219        2179067  \n",
              "6485           1167,23        2179629  \n",
              "288               9900        2175448  \n",
              "2800             69,86        2177257  \n",
              "1053              5500        2179457  \n",
              "5049              3000        2178559  "
            ],
            "text/html": [
              "\n",
              "  <div id=\"df-8813db6f-bad8-4869-aebb-2f7e2aab1d17\">\n",
              "    <div class=\"colab-df-container\">\n",
              "      <div>\n",
              "<style scoped>\n",
              "    .dataframe tbody tr th:only-of-type {\n",
              "        vertical-align: middle;\n",
              "    }\n",
              "\n",
              "    .dataframe tbody tr th {\n",
              "        vertical-align: top;\n",
              "    }\n",
              "\n",
              "    .dataframe thead th {\n",
              "        text-align: right;\n",
              "    }\n",
              "</style>\n",
              "<table border=\"1\" class=\"dataframe\">\n",
              "  <thead>\n",
              "    <tr style=\"text-align: right;\">\n",
              "      <th></th>\n",
              "      <th>ANO</th>\n",
              "      <th>MES</th>\n",
              "      <th>SENADOR</th>\n",
              "      <th>TIPO_DESPESA</th>\n",
              "      <th>CNPJ_CPF</th>\n",
              "      <th>FORNECEDOR</th>\n",
              "      <th>DOCUMENTO</th>\n",
              "      <th>DATA</th>\n",
              "      <th>DETALHAMENTO</th>\n",
              "      <th>VALOR_REEMBOLSADO</th>\n",
              "      <th>COD_DOCUMENTO</th>\n",
              "    </tr>\n",
              "  </thead>\n",
              "  <tbody>\n",
              "    <tr>\n",
              "      <th>3947</th>\n",
              "      <td>2022</td>\n",
              "      <td>5</td>\n",
              "      <td>LASIER MARTINS</td>\n",
              "      <td>Passagens aéreas, aquáticas e terrestres nacio...</td>\n",
              "      <td>07.575.651/0001-59</td>\n",
              "      <td>GOL</td>\n",
              "      <td>LUDZRW</td>\n",
              "      <td>13/05/2022</td>\n",
              "      <td>Companhia Aérea: GOL, Localizador: LUDZRW. Pas...</td>\n",
              "      <td>2225,67</td>\n",
              "      <td>2181640</td>\n",
              "    </tr>\n",
              "    <tr>\n",
              "      <th>5278</th>\n",
              "      <td>2022</td>\n",
              "      <td>5</td>\n",
              "      <td>PLÍNIO VALÉRIO</td>\n",
              "      <td>Passagens aéreas, aquáticas e terrestres nacio...</td>\n",
              "      <td>16.978.175/0001-08</td>\n",
              "      <td>ADRIA VIAGENS E TURISMO</td>\n",
              "      <td>YJRBLI</td>\n",
              "      <td>19/05/2022</td>\n",
              "      <td>Companhia Aérea: GOL, Localizador: YJRBLI. Pas...</td>\n",
              "      <td>3477,17</td>\n",
              "      <td>2180732</td>\n",
              "    </tr>\n",
              "    <tr>\n",
              "      <th>6495</th>\n",
              "      <td>2022</td>\n",
              "      <td>1</td>\n",
              "      <td>WELLINGTON FAGUNDES</td>\n",
              "      <td>Aquisição de material de consumo para uso no e...</td>\n",
              "      <td>18.804.888/0001-80</td>\n",
              "      <td>Brasil One Serviços de Tecnologia da Informaçã...</td>\n",
              "      <td>236</td>\n",
              "      <td>03/03/2022</td>\n",
              "      <td>Despesa com serviços de informática, referente...</td>\n",
              "      <td>3820</td>\n",
              "      <td>2175452</td>\n",
              "    </tr>\n",
              "    <tr>\n",
              "      <th>229</th>\n",
              "      <td>2022</td>\n",
              "      <td>4</td>\n",
              "      <td>ALEXANDRE SILVEIRA</td>\n",
              "      <td>Aluguel de imóveis para escritório político, c...</td>\n",
              "      <td>40.432.544/0112-62</td>\n",
              "      <td>CLARO S.A</td>\n",
              "      <td>2205901732793</td>\n",
              "      <td>04/05/2022</td>\n",
              "      <td>NaN</td>\n",
              "      <td>421,79</td>\n",
              "      <td>2179929</td>\n",
              "    </tr>\n",
              "    <tr>\n",
              "      <th>2669</th>\n",
              "      <td>2022</td>\n",
              "      <td>3</td>\n",
              "      <td>GIORDANO</td>\n",
              "      <td>Locomoção, hospedagem, alimentação, combustíve...</td>\n",
              "      <td>33.812.076/0001-70</td>\n",
              "      <td>Pizzaria Bella Forneira</td>\n",
              "      <td>NaN</td>\n",
              "      <td>29/03/2022</td>\n",
              "      <td>NaN</td>\n",
              "      <td>219</td>\n",
              "      <td>2179067</td>\n",
              "    </tr>\n",
              "    <tr>\n",
              "      <th>6485</th>\n",
              "      <td>2022</td>\n",
              "      <td>4</td>\n",
              "      <td>VENEZIANO VITAL DO RÊGO</td>\n",
              "      <td>Passagens aéreas, aquáticas e terrestres nacio...</td>\n",
              "      <td>07.575.651/0001-59</td>\n",
              "      <td>GOL</td>\n",
              "      <td>IXHURH</td>\n",
              "      <td>13/04/2022</td>\n",
              "      <td>Companhia Aérea: GOL, Localizador: IXHURH. Pas...</td>\n",
              "      <td>1167,23</td>\n",
              "      <td>2179629</td>\n",
              "    </tr>\n",
              "    <tr>\n",
              "      <th>288</th>\n",
              "      <td>2022</td>\n",
              "      <td>2</td>\n",
              "      <td>ANGELO CORONEL</td>\n",
              "      <td>Aluguel de imóveis para escritório político, c...</td>\n",
              "      <td>35.184.919/0001-67</td>\n",
              "      <td>JCAR Locadora de Automóveis Ltda</td>\n",
              "      <td>202200000000004</td>\n",
              "      <td>01/03/2022</td>\n",
              "      <td>Locacao de carro de apoio a atividade parlamen...</td>\n",
              "      <td>9900</td>\n",
              "      <td>2175448</td>\n",
              "    </tr>\n",
              "    <tr>\n",
              "      <th>2800</th>\n",
              "      <td>2022</td>\n",
              "      <td>3</td>\n",
              "      <td>HUMBERTO COSTA</td>\n",
              "      <td>Locomoção, hospedagem, alimentação, combustíve...</td>\n",
              "      <td>34.256.587/0001-16</td>\n",
              "      <td>Bardana Cozinha e Restaurante Ltda</td>\n",
              "      <td>53323</td>\n",
              "      <td>30/03/2022</td>\n",
              "      <td>Despesa com alimentação para o parlamentar.</td>\n",
              "      <td>69,86</td>\n",
              "      <td>2177257</td>\n",
              "    </tr>\n",
              "    <tr>\n",
              "      <th>1053</th>\n",
              "      <td>2022</td>\n",
              "      <td>4</td>\n",
              "      <td>CONFÚCIO MOURA</td>\n",
              "      <td>Divulgação da atividade parlamentar</td>\n",
              "      <td>30.673.595/0001-07</td>\n",
              "      <td>AMAURI DE SOUZA JUNIOR</td>\n",
              "      <td>331</td>\n",
              "      <td>27/04/2022</td>\n",
              "      <td>Despesa com prestação de serviços de marketing...</td>\n",
              "      <td>5500</td>\n",
              "      <td>2179457</td>\n",
              "    </tr>\n",
              "    <tr>\n",
              "      <th>5049</th>\n",
              "      <td>2022</td>\n",
              "      <td>3</td>\n",
              "      <td>PAULO PAIM</td>\n",
              "      <td>Locomoção, hospedagem, alimentação, combustíve...</td>\n",
              "      <td>09.146.749/0001-16</td>\n",
              "      <td>Autolocadora Linck e Mello Ltda</td>\n",
              "      <td>22904</td>\n",
              "      <td>06/04/2022</td>\n",
              "      <td>Locação de veículo - carro utilizado no exercí...</td>\n",
              "      <td>3000</td>\n",
              "      <td>2178559</td>\n",
              "    </tr>\n",
              "  </tbody>\n",
              "</table>\n",
              "</div>\n",
              "      <button class=\"colab-df-convert\" onclick=\"convertToInteractive('df-8813db6f-bad8-4869-aebb-2f7e2aab1d17')\"\n",
              "              title=\"Convert this dataframe to an interactive table.\"\n",
              "              style=\"display:none;\">\n",
              "        \n",
              "  <svg xmlns=\"http://www.w3.org/2000/svg\" height=\"24px\"viewBox=\"0 0 24 24\"\n",
              "       width=\"24px\">\n",
              "    <path d=\"M0 0h24v24H0V0z\" fill=\"none\"/>\n",
              "    <path d=\"M18.56 5.44l.94 2.06.94-2.06 2.06-.94-2.06-.94-.94-2.06-.94 2.06-2.06.94zm-11 1L8.5 8.5l.94-2.06 2.06-.94-2.06-.94L8.5 2.5l-.94 2.06-2.06.94zm10 10l.94 2.06.94-2.06 2.06-.94-2.06-.94-.94-2.06-.94 2.06-2.06.94z\"/><path d=\"M17.41 7.96l-1.37-1.37c-.4-.4-.92-.59-1.43-.59-.52 0-1.04.2-1.43.59L10.3 9.45l-7.72 7.72c-.78.78-.78 2.05 0 2.83L4 21.41c.39.39.9.59 1.41.59.51 0 1.02-.2 1.41-.59l7.78-7.78 2.81-2.81c.8-.78.8-2.07 0-2.86zM5.41 20L4 18.59l7.72-7.72 1.47 1.35L5.41 20z\"/>\n",
              "  </svg>\n",
              "      </button>\n",
              "      \n",
              "  <style>\n",
              "    .colab-df-container {\n",
              "      display:flex;\n",
              "      flex-wrap:wrap;\n",
              "      gap: 12px;\n",
              "    }\n",
              "\n",
              "    .colab-df-convert {\n",
              "      background-color: #E8F0FE;\n",
              "      border: none;\n",
              "      border-radius: 50%;\n",
              "      cursor: pointer;\n",
              "      display: none;\n",
              "      fill: #1967D2;\n",
              "      height: 32px;\n",
              "      padding: 0 0 0 0;\n",
              "      width: 32px;\n",
              "    }\n",
              "\n",
              "    .colab-df-convert:hover {\n",
              "      background-color: #E2EBFA;\n",
              "      box-shadow: 0px 1px 2px rgba(60, 64, 67, 0.3), 0px 1px 3px 1px rgba(60, 64, 67, 0.15);\n",
              "      fill: #174EA6;\n",
              "    }\n",
              "\n",
              "    [theme=dark] .colab-df-convert {\n",
              "      background-color: #3B4455;\n",
              "      fill: #D2E3FC;\n",
              "    }\n",
              "\n",
              "    [theme=dark] .colab-df-convert:hover {\n",
              "      background-color: #434B5C;\n",
              "      box-shadow: 0px 1px 3px 1px rgba(0, 0, 0, 0.15);\n",
              "      filter: drop-shadow(0px 1px 2px rgba(0, 0, 0, 0.3));\n",
              "      fill: #FFFFFF;\n",
              "    }\n",
              "  </style>\n",
              "\n",
              "      <script>\n",
              "        const buttonEl =\n",
              "          document.querySelector('#df-8813db6f-bad8-4869-aebb-2f7e2aab1d17 button.colab-df-convert');\n",
              "        buttonEl.style.display =\n",
              "          google.colab.kernel.accessAllowed ? 'block' : 'none';\n",
              "\n",
              "        async function convertToInteractive(key) {\n",
              "          const element = document.querySelector('#df-8813db6f-bad8-4869-aebb-2f7e2aab1d17');\n",
              "          const dataTable =\n",
              "            await google.colab.kernel.invokeFunction('convertToInteractive',\n",
              "                                                     [key], {});\n",
              "          if (!dataTable) return;\n",
              "\n",
              "          const docLinkHtml = 'Like what you see? Visit the ' +\n",
              "            '<a target=\"_blank\" href=https://colab.research.google.com/notebooks/data_table.ipynb>data table notebook</a>'\n",
              "            + ' to learn more about interactive tables.';\n",
              "          element.innerHTML = '';\n",
              "          dataTable['output_type'] = 'display_data';\n",
              "          await google.colab.output.renderOutput(dataTable, element);\n",
              "          const docLink = document.createElement('div');\n",
              "          docLink.innerHTML = docLinkHtml;\n",
              "          element.appendChild(docLink);\n",
              "        }\n",
              "      </script>\n",
              "    </div>\n",
              "  </div>\n",
              "  "
            ]
          },
          "metadata": {},
          "execution_count": 5
        }
      ]
    },
    {
      "cell_type": "markdown",
      "source": [
        "Com base nas visualizações acima, é possível identificar algumas inconsistências nos dados, como três colunas com a mesma finalidade de representar a data e diversos valores nulos para a variável de detalhamento.\n",
        "\n",
        "O próximo passo é verificar como estão os tipos de dados de cada uma das variáveis."
      ],
      "metadata": {
        "id": "5z8y6yjbhaZL"
      }
    },
    {
      "cell_type": "code",
      "source": [
        "df_2022.info()"
      ],
      "metadata": {
        "colab": {
          "base_uri": "https://localhost:8080/"
        },
        "id": "ceZa-Kl5kzb5",
        "outputId": "aec51b74-1d03-4559-97b7-a0de14e131f8"
      },
      "execution_count": 6,
      "outputs": [
        {
          "output_type": "stream",
          "name": "stdout",
          "text": [
            "<class 'pandas.core.frame.DataFrame'>\n",
            "RangeIndex: 7043 entries, 0 to 7042\n",
            "Data columns (total 11 columns):\n",
            " #   Column             Non-Null Count  Dtype \n",
            "---  ------             --------------  ----- \n",
            " 0   ANO                7043 non-null   int64 \n",
            " 1   MES                7043 non-null   int64 \n",
            " 2   SENADOR            7043 non-null   object\n",
            " 3   TIPO_DESPESA       7043 non-null   object\n",
            " 4   CNPJ_CPF           7043 non-null   object\n",
            " 5   FORNECEDOR         7043 non-null   object\n",
            " 6   DOCUMENTO          6694 non-null   object\n",
            " 7   DATA               7043 non-null   object\n",
            " 8   DETALHAMENTO       3737 non-null   object\n",
            " 9   VALOR_REEMBOLSADO  7043 non-null   object\n",
            " 10  COD_DOCUMENTO      7043 non-null   int64 \n",
            "dtypes: int64(3), object(8)\n",
            "memory usage: 605.4+ KB\n"
          ]
        }
      ]
    },
    {
      "cell_type": "markdown",
      "source": [
        "Com base nos resultados apresentados do comando `.info()`, as colunas `Detalhamento` e `Documento` possuem valores inválidos. O tipo de dado variável `Data` foi identificada e classificada incorretamente.\n",
        "\n",
        "Para corrigir os problemas apresentados agora, seguirei algumas etapas, como remoção de colunas, alteração do tipo de dados a análise dos valores nulos.  "
      ],
      "metadata": {
        "id": "8mMrDvIsqDXU"
      }
    },
    {
      "cell_type": "code",
      "source": [
        "df_clean = df_2022.copy()"
      ],
      "metadata": {
        "id": "aBKGYlzxrg3i"
      },
      "execution_count": 7,
      "outputs": []
    },
    {
      "cell_type": "code",
      "source": [
        "df_clean.drop(columns=['ANO', 'MES'], inplace=True)"
      ],
      "metadata": {
        "id": "eo5moKyusY5l"
      },
      "execution_count": 8,
      "outputs": []
    },
    {
      "cell_type": "code",
      "source": [
        "df_clean.columns"
      ],
      "metadata": {
        "colab": {
          "base_uri": "https://localhost:8080/"
        },
        "id": "xZixfse5siUn",
        "outputId": "c8e50320-dff4-4f05-c43c-21ecb546b66c"
      },
      "execution_count": 9,
      "outputs": [
        {
          "output_type": "execute_result",
          "data": {
            "text/plain": [
              "Index(['SENADOR', 'TIPO_DESPESA', 'CNPJ_CPF', 'FORNECEDOR', 'DOCUMENTO',\n",
              "       'DATA', 'DETALHAMENTO', 'VALOR_REEMBOLSADO', 'COD_DOCUMENTO'],\n",
              "      dtype='object')"
            ]
          },
          "metadata": {},
          "execution_count": 9
        }
      ]
    },
    {
      "cell_type": "code",
      "source": [
        "df_clean['DATA'] = pd.to_datetime(df_clean['DATA'], format='%d/%m/%Y')"
      ],
      "metadata": {
        "id": "QzTsR9Nmsjx-"
      },
      "execution_count": 10,
      "outputs": []
    },
    {
      "cell_type": "code",
      "source": [
        "df_clean['VALOR_REEMBOLSADO'] = df_clean['VALOR_REEMBOLSADO'].apply(lambda x: x.replace(',', '.'))\n",
        "df_clean['VALOR_REEMBOLSADO'] = df_clean['VALOR_REEMBOLSADO'].astype('float64') "
      ],
      "metadata": {
        "id": "SOitGAbvtKBr"
      },
      "execution_count": 11,
      "outputs": []
    },
    {
      "cell_type": "code",
      "source": [
        "df_clean[['SENADOR', 'TIPO_DESPESA', 'CNPJ_CPF', 'FORNECEDOR', 'DOCUMENTO', 'DETALHAMENTO', 'COD_DOCUMENTO']] = df_clean[['SENADOR', 'TIPO_DESPESA', 'CNPJ_CPF', 'FORNECEDOR', 'DOCUMENTO', 'DETALHAMENTO', 'COD_DOCUMENTO']].astype('string') "
      ],
      "metadata": {
        "id": "o07KRVPHt9HV"
      },
      "execution_count": 12,
      "outputs": []
    },
    {
      "cell_type": "code",
      "source": [
        "def combine_dfs(dataframe, year):\n",
        "  df =  pd.read_csv(f'https://raw.githubusercontent.com/brayannmb/7DaysOfCode-DataScience/main/despesa_ceaps_{year}.csv', encoding='1252', sep=';', header=1)\n",
        "  df['SENADOR'] = df['SENADOR'].apply(lambda x: x.title())\n",
        "  df['FORNECEDOR'] = df['FORNECEDOR'].apply(lambda x: x.title())\n",
        "  df_aux = pd.read_csv(f'https://raw.githubusercontent.com/brayannmb/7DaysOfCode-DataScience/main/despesa_ceaps_{year}.csv', encoding='1252', sep=';', header=1) \n",
        "  df_aux = pd.to_datetime(df_aux['DATA'], format='%d/%m/%Y', errors='coerce')\n",
        "  error_values = df_aux[df_aux['DATA'].isnull()].index.tolist()\n",
        "  for error in error_values:\n",
        "    try:\n",
        "      df.loc[error, 'DATA']  = df.loc[error, 'DATA'].replace('/02', '20')\n",
        "    except Exception as e:\n",
        "      print(e)\n",
        "  df_final = structure_data(df)\n",
        "  dataframe = dataframe.append(df_final)\n",
        "  return dataframe\n",
        "  "
      ],
      "metadata": {
        "id": "BakUflFJEYdc"
      },
      "execution_count": 51,
      "outputs": []
    },
    {
      "cell_type": "code",
      "source": [
        "def structure_data(df):\n",
        "  try:\n",
        "    df['SENADOR'] = df['SENADOR'].apply(lambda x: x.title())\n",
        "    df['FORNECEDOR'] = df['FORNECEDOR'].apply(lambda x: x.title())\n",
        "    df['VALOR_REEMBOLSADO'] = df['VALOR_REEMBOLSADO'].apply(lambda x: x.replace(',', '.'))\n",
        "    df['VALOR_REEMBOLSADO'] = df['VALOR_REEMBOLSADO'].astype('float64')\n",
        "    df[['SENADOR', 'TIPO_DESPESA', 'CNPJ_CPF', 'FORNECEDOR', 'DOCUMENTO', 'DETALHAMENTO', 'COD_DOCUMENTO']] = df[['SENADOR', 'TIPO_DESPESA', 'CNPJ_CPF', 'FORNECEDOR', 'DOCUMENTO', 'DETALHAMENTO', 'COD_DOCUMENTO']].astype('string')\n",
        "    df.drop(columns=['ANO', 'MES'], inplace=True)\n",
        "    return df\n",
        "  except Exception as e:\n",
        "    return print(e)"
      ],
      "metadata": {
        "id": "AoxfyUtSLggD"
      },
      "execution_count": 50,
      "outputs": []
    },
    {
      "cell_type": "code",
      "source": [
        "import re\n",
        "years = ['2019', '2020', '2021', '2022']\n",
        "for year in years:\n",
        "  df = pd.read_csv(f'https://raw.githubusercontent.com/brayannmb/7DaysOfCode-DataScience/main/despesa_ceaps_{year}.csv', encoding='1252', sep=';', header=1)\n",
        "  try:\n",
        "    pd.to_datetime(df['DATA'], format='%d/%m/%Y')\n",
        "  except Exception as e:\n",
        "    print(e)\n",
        "  for x in df['DATA']:\n",
        "    if re.search(r'02[0-9]{2}$', x):\n",
        "      print(x)"
      ],
      "metadata": {
        "colab": {
          "base_uri": "https://localhost:8080/"
        },
        "id": "793D5zybF0bc",
        "outputId": "87f5fe9b-c1e2-4dd9-99a1-822a320ea94f"
      },
      "execution_count": 48,
      "outputs": [
        {
          "output_type": "stream",
          "name": "stdout",
          "text": [
            "Out of bounds nanosecond timestamp: 219-01-31 00:00:00\n",
            "31/01/0219\n",
            "Out of bounds nanosecond timestamp: 202-05-05 00:00:00\n",
            "05/05/0202\n",
            "Out of bounds nanosecond timestamp: 202-10-29 00:00:00\n",
            "29/10/0202\n"
          ]
        }
      ]
    },
    {
      "cell_type": "code",
      "source": [
        "df_clean['SENADOR'] = df_clean['SENADOR'].apply(lambda x: x.title())"
      ],
      "metadata": {
        "id": "7oAy8XgtvIi5"
      },
      "execution_count": 14,
      "outputs": []
    },
    {
      "cell_type": "code",
      "source": [
        "df_clean['FORNECEDOR'] = df_clean['FORNECEDOR'].apply(lambda x: x.title())"
      ],
      "metadata": {
        "id": "47nucWRtve3o"
      },
      "execution_count": 15,
      "outputs": []
    },
    {
      "cell_type": "code",
      "source": [
        "df_2019 = pd.read_csv('https://raw.githubusercontent.com/brayannmb/7DaysOfCode-DataScience/main/despesa_ceaps_2019.csv', encoding='1252', sep=';', header=1)"
      ],
      "metadata": {
        "id": "XkA5smXf0kLb"
      },
      "execution_count": 16,
      "outputs": []
    },
    {
      "cell_type": "code",
      "source": [
        "try:\n",
        "  df_2019['DATA'] = pd.to_datetime(df_2019['DATA'], format='%d/%m/%Y')\n",
        "except Exception as e:\n",
        "  print(e)"
      ],
      "metadata": {
        "colab": {
          "base_uri": "https://localhost:8080/"
        },
        "id": "JREZJJUO_1_t",
        "outputId": "a9658265-667d-4abb-afb6-782e587a1fc1"
      },
      "execution_count": 17,
      "outputs": [
        {
          "output_type": "stream",
          "name": "stdout",
          "text": [
            "Out of bounds nanosecond timestamp: 219-01-31 00:00:00\n"
          ]
        }
      ]
    },
    {
      "cell_type": "markdown",
      "source": [
        "Quando encontrei o problema cima, confesso que não soube o que fazer de imediato. Diversas tentativas de encontrar o index que correspondia o valor do erro encontrado. \n",
        "\n",
        "Uma alternativa, foi utilizar o parâmetro `errors = 'coerce'`, pois este parâmetro transforma os erros em valores nulos. Dessa maneira, através do valor nulo saberia o index do dado inconsistente."
      ],
      "metadata": {
        "id": "j24lIQmNG5XC"
      }
    },
    {
      "cell_type": "code",
      "source": [
        "df_2019['DATA'] = pd.to_datetime(df_2019['DATA'], format='%d/%m/%Y', errors='coerce')"
      ],
      "metadata": {
        "id": "EGB6jkWrID0K"
      },
      "execution_count": 18,
      "outputs": []
    },
    {
      "cell_type": "code",
      "source": [
        "error_values = df_2019[df_2019['DATA'].isnull()].index.tolist()"
      ],
      "metadata": {
        "id": "zkvYvItqETgs"
      },
      "execution_count": 19,
      "outputs": []
    },
    {
      "cell_type": "code",
      "source": [
        "error_values"
      ],
      "metadata": {
        "colab": {
          "base_uri": "https://localhost:8080/"
        },
        "id": "kZ2vXOrHJnDY",
        "outputId": "27bb9456-94bb-46c5-e6fc-012779ef6c8c"
      },
      "execution_count": 20,
      "outputs": [
        {
          "output_type": "execute_result",
          "data": {
            "text/plain": [
              "[10986]"
            ]
          },
          "metadata": {},
          "execution_count": 20
        }
      ]
    },
    {
      "cell_type": "code",
      "source": [
        "df_2019 = pd.read_csv('https://raw.githubusercontent.com/brayannmb/7DaysOfCode-DataScience/main/despesa_ceaps_2019.csv', encoding='1252', sep=';', header=1)"
      ],
      "metadata": {
        "id": "k8tndzwzIPWA"
      },
      "execution_count": 21,
      "outputs": []
    },
    {
      "cell_type": "code",
      "source": [
        "df_2019.loc[10987, 'DATA']"
      ],
      "metadata": {
        "colab": {
          "base_uri": "https://localhost:8080/",
          "height": 35
        },
        "id": "1ZJYC03rJqoG",
        "outputId": "f0dfce6d-c9c8-44fe-a1a6-63d8e3dbbcc0"
      },
      "execution_count": 23,
      "outputs": [
        {
          "output_type": "execute_result",
          "data": {
            "text/plain": [
              "'03/01/2019'"
            ],
            "application/vnd.google.colaboratory.intrinsic+json": {
              "type": "string"
            }
          },
          "metadata": {},
          "execution_count": 23
        }
      ]
    },
    {
      "cell_type": "code",
      "source": [
        "for error in error_values:\n",
        "  print(f\"Erro encontrado: {df_2019.loc[error, 'DATA']}\")"
      ],
      "metadata": {
        "colab": {
          "base_uri": "https://localhost:8080/"
        },
        "id": "x6BuN_06IZl0",
        "outputId": "6baba3a6-4533-4600-98cd-64f717cb0c47"
      },
      "execution_count": 24,
      "outputs": [
        {
          "output_type": "stream",
          "name": "stdout",
          "text": [
            "Erro encontrado: 31/01/0219\n"
          ]
        }
      ]
    },
    {
      "cell_type": "markdown",
      "source": [
        "O valor de data foi inserido incorretamente. `0219`ao invés de `2019`."
      ],
      "metadata": {
        "id": "3gyajLhkJSEe"
      }
    },
    {
      "cell_type": "code",
      "source": [
        "df_2019.loc[error_values[0], 'DATA'] = df_2019.loc[error_values[0], 'DATA'].replace('02', '20')"
      ],
      "metadata": {
        "id": "2Po6Dfoq--9G"
      },
      "execution_count": 25,
      "outputs": []
    },
    {
      "cell_type": "code",
      "source": [
        "df_2019['DATA'] = pd.to_datetime(df_2019['DATA'], format='%d/%m/%Y')"
      ],
      "metadata": {
        "id": "0eSOw8_ZBJAG"
      },
      "execution_count": 28,
      "outputs": []
    },
    {
      "cell_type": "code",
      "source": [
        "df_2019.drop(columns=['ANO', 'MES'], axis=1, inplace=True)"
      ],
      "metadata": {
        "id": "tsrVAc7-B7Zl"
      },
      "execution_count": 31,
      "outputs": []
    },
    {
      "cell_type": "code",
      "source": [
        "df_2019[['SENADOR', 'TIPO_DESPESA', 'CNPJ_CPF', 'FORNECEDOR', 'DOCUMENTO', 'DETALHAMENTO', 'COD_DOCUMENTO']] = df_2019[['SENADOR', 'TIPO_DESPESA', 'CNPJ_CPF', 'FORNECEDOR', 'DOCUMENTO', 'DETALHAMENTO', 'COD_DOCUMENTO']].astype('string') "
      ],
      "metadata": {
        "id": "B9beE8lhCXhk"
      },
      "execution_count": 34,
      "outputs": []
    },
    {
      "cell_type": "code",
      "source": [
        "try:\n",
        "  df_2019['VALOR_REEMBOLSADO'].astype('float64')\n",
        "except Exception as e:\n",
        "  print(e)"
      ],
      "metadata": {
        "colab": {
          "base_uri": "https://localhost:8080/"
        },
        "id": "ZKJPQ20sC_OU",
        "outputId": "1570e6b5-57e6-480c-b3bc-360974c63e74"
      },
      "execution_count": 36,
      "outputs": [
        {
          "output_type": "stream",
          "name": "stdout",
          "text": [
            "could not convert string to float: '66,02'\n"
          ]
        }
      ]
    },
    {
      "cell_type": "code",
      "source": [
        "df_2019['VALOR_REEMBOLSADO'] = df_2019['VALOR_REEMBOLSADO'].astype('string')"
      ],
      "metadata": {
        "id": "0b6aGxQ9DXxX"
      },
      "execution_count": 37,
      "outputs": []
    },
    {
      "cell_type": "code",
      "source": [
        "df_2019['VALOR_REEMBOLSADO'] = df_2019['VALOR_REEMBOLSADO'].apply(lambda x: x.replace(',', '.'))"
      ],
      "metadata": {
        "id": "sHzeuUlQDfJt"
      },
      "execution_count": 38,
      "outputs": []
    },
    {
      "cell_type": "code",
      "source": [
        "try:\n",
        "  df_2019['VALOR_REEMBOLSADO'].astype('float64')\n",
        "  print('Done')\n",
        "except Exception as e:\n",
        "  print(e)"
      ],
      "metadata": {
        "colab": {
          "base_uri": "https://localhost:8080/"
        },
        "id": "aqHnerwbDvo2",
        "outputId": "6bff62df-6c07-4ae1-d412-3bc2a89a9323"
      },
      "execution_count": 40,
      "outputs": [
        {
          "output_type": "stream",
          "name": "stdout",
          "text": [
            "Done\n"
          ]
        }
      ]
    },
    {
      "cell_type": "code",
      "source": [
        "df_2019['VALOR_REEMBOLSADO'] = df_2019['VALOR_REEMBOLSADO'].astype('float64')"
      ],
      "metadata": {
        "id": "d1tEOo7OD0Z1"
      },
      "execution_count": 41,
      "outputs": []
    },
    {
      "cell_type": "code",
      "source": [
        "df_2019.info()"
      ],
      "metadata": {
        "colab": {
          "base_uri": "https://localhost:8080/"
        },
        "id": "gyd31nlsD-NG",
        "outputId": "24a4ac43-42f2-4b62-e730-0318ba915631"
      },
      "execution_count": 42,
      "outputs": [
        {
          "output_type": "stream",
          "name": "stdout",
          "text": [
            "<class 'pandas.core.frame.DataFrame'>\n",
            "RangeIndex: 21634 entries, 0 to 21633\n",
            "Data columns (total 9 columns):\n",
            " #   Column             Non-Null Count  Dtype         \n",
            "---  ------             --------------  -----         \n",
            " 0   SENADOR            21634 non-null  string        \n",
            " 1   TIPO_DESPESA       21634 non-null  string        \n",
            " 2   CNPJ_CPF           21634 non-null  string        \n",
            " 3   FORNECEDOR         21634 non-null  string        \n",
            " 4   DOCUMENTO          20900 non-null  string        \n",
            " 5   DATA               21634 non-null  datetime64[ns]\n",
            " 6   DETALHAMENTO       13092 non-null  string        \n",
            " 7   VALOR_REEMBOLSADO  21634 non-null  float64       \n",
            " 8   COD_DOCUMENTO      21634 non-null  string        \n",
            "dtypes: datetime64[ns](1), float64(1), string(7)\n",
            "memory usage: 1.5 MB\n"
          ]
        }
      ]
    },
    {
      "cell_type": "code",
      "source": [
        "df_2019.head()"
      ],
      "metadata": {
        "colab": {
          "base_uri": "https://localhost:8080/",
          "height": 337
        },
        "id": "dg8BEttpECGV",
        "outputId": "54595506-7b02-4e26-b596-602759a13d44"
      },
      "execution_count": 43,
      "outputs": [
        {
          "output_type": "execute_result",
          "data": {
            "text/plain": [
              "        SENADOR                                       TIPO_DESPESA  \\\n",
              "0  ACIR GURGACZ  Aluguel de imóveis para escritório político, c...   \n",
              "1  ACIR GURGACZ  Aluguel de imóveis para escritório político, c...   \n",
              "2  ACIR GURGACZ  Aluguel de imóveis para escritório político, c...   \n",
              "3  ACIR GURGACZ  Aluguel de imóveis para escritório político, c...   \n",
              "4  ACIR GURGACZ  Aluguel de imóveis para escritório político, c...   \n",
              "\n",
              "             CNPJ_CPF                     FORNECEDOR  DOCUMENTO       DATA  \\\n",
              "0  05.914.650/0001-66                       ENERGISA  006582758 2019-01-04   \n",
              "1  05.914.650/0001-66                       ENERGISA  006582755 2019-01-04   \n",
              "2      004.948.028-63  GILBERTO PISELO DO NASCIMENTO      00119 2019-01-07   \n",
              "3  05.423.963/0001-11                  OI MÓVEL S.A.   86161151 2018-12-25   \n",
              "4  05.914.650/0001-66                       ENERGISA  007236036 2019-02-04   \n",
              "\n",
              "                                        DETALHAMENTO  VALOR_REEMBOLSADO  \\\n",
              "0  Despesa com pagamento de energia elétrica do e...              66.02   \n",
              "1  Despesa com pagamento de energia elétrica do e...             139.98   \n",
              "2  Despesa com pagamento de aluguel de imóvel par...            6000.00   \n",
              "3  Despesa com pagamento de telefonia para o escr...             316.39   \n",
              "4  Despesa com pagamento de energia elétrica para...              99.45   \n",
              "\n",
              "  COD_DOCUMENTO  \n",
              "0       2116543  \n",
              "1       2116546  \n",
              "2       2113817  \n",
              "3       2116541  \n",
              "4       2116550  "
            ],
            "text/html": [
              "\n",
              "  <div id=\"df-8af748b8-c36b-4897-a87c-c4958744fd40\">\n",
              "    <div class=\"colab-df-container\">\n",
              "      <div>\n",
              "<style scoped>\n",
              "    .dataframe tbody tr th:only-of-type {\n",
              "        vertical-align: middle;\n",
              "    }\n",
              "\n",
              "    .dataframe tbody tr th {\n",
              "        vertical-align: top;\n",
              "    }\n",
              "\n",
              "    .dataframe thead th {\n",
              "        text-align: right;\n",
              "    }\n",
              "</style>\n",
              "<table border=\"1\" class=\"dataframe\">\n",
              "  <thead>\n",
              "    <tr style=\"text-align: right;\">\n",
              "      <th></th>\n",
              "      <th>SENADOR</th>\n",
              "      <th>TIPO_DESPESA</th>\n",
              "      <th>CNPJ_CPF</th>\n",
              "      <th>FORNECEDOR</th>\n",
              "      <th>DOCUMENTO</th>\n",
              "      <th>DATA</th>\n",
              "      <th>DETALHAMENTO</th>\n",
              "      <th>VALOR_REEMBOLSADO</th>\n",
              "      <th>COD_DOCUMENTO</th>\n",
              "    </tr>\n",
              "  </thead>\n",
              "  <tbody>\n",
              "    <tr>\n",
              "      <th>0</th>\n",
              "      <td>ACIR GURGACZ</td>\n",
              "      <td>Aluguel de imóveis para escritório político, c...</td>\n",
              "      <td>05.914.650/0001-66</td>\n",
              "      <td>ENERGISA</td>\n",
              "      <td>006582758</td>\n",
              "      <td>2019-01-04</td>\n",
              "      <td>Despesa com pagamento de energia elétrica do e...</td>\n",
              "      <td>66.02</td>\n",
              "      <td>2116543</td>\n",
              "    </tr>\n",
              "    <tr>\n",
              "      <th>1</th>\n",
              "      <td>ACIR GURGACZ</td>\n",
              "      <td>Aluguel de imóveis para escritório político, c...</td>\n",
              "      <td>05.914.650/0001-66</td>\n",
              "      <td>ENERGISA</td>\n",
              "      <td>006582755</td>\n",
              "      <td>2019-01-04</td>\n",
              "      <td>Despesa com pagamento de energia elétrica do e...</td>\n",
              "      <td>139.98</td>\n",
              "      <td>2116546</td>\n",
              "    </tr>\n",
              "    <tr>\n",
              "      <th>2</th>\n",
              "      <td>ACIR GURGACZ</td>\n",
              "      <td>Aluguel de imóveis para escritório político, c...</td>\n",
              "      <td>004.948.028-63</td>\n",
              "      <td>GILBERTO PISELO DO NASCIMENTO</td>\n",
              "      <td>00119</td>\n",
              "      <td>2019-01-07</td>\n",
              "      <td>Despesa com pagamento de aluguel de imóvel par...</td>\n",
              "      <td>6000.00</td>\n",
              "      <td>2113817</td>\n",
              "    </tr>\n",
              "    <tr>\n",
              "      <th>3</th>\n",
              "      <td>ACIR GURGACZ</td>\n",
              "      <td>Aluguel de imóveis para escritório político, c...</td>\n",
              "      <td>05.423.963/0001-11</td>\n",
              "      <td>OI MÓVEL S.A.</td>\n",
              "      <td>86161151</td>\n",
              "      <td>2018-12-25</td>\n",
              "      <td>Despesa com pagamento de telefonia para o escr...</td>\n",
              "      <td>316.39</td>\n",
              "      <td>2116541</td>\n",
              "    </tr>\n",
              "    <tr>\n",
              "      <th>4</th>\n",
              "      <td>ACIR GURGACZ</td>\n",
              "      <td>Aluguel de imóveis para escritório político, c...</td>\n",
              "      <td>05.914.650/0001-66</td>\n",
              "      <td>ENERGISA</td>\n",
              "      <td>007236036</td>\n",
              "      <td>2019-02-04</td>\n",
              "      <td>Despesa com pagamento de energia elétrica para...</td>\n",
              "      <td>99.45</td>\n",
              "      <td>2116550</td>\n",
              "    </tr>\n",
              "  </tbody>\n",
              "</table>\n",
              "</div>\n",
              "      <button class=\"colab-df-convert\" onclick=\"convertToInteractive('df-8af748b8-c36b-4897-a87c-c4958744fd40')\"\n",
              "              title=\"Convert this dataframe to an interactive table.\"\n",
              "              style=\"display:none;\">\n",
              "        \n",
              "  <svg xmlns=\"http://www.w3.org/2000/svg\" height=\"24px\"viewBox=\"0 0 24 24\"\n",
              "       width=\"24px\">\n",
              "    <path d=\"M0 0h24v24H0V0z\" fill=\"none\"/>\n",
              "    <path d=\"M18.56 5.44l.94 2.06.94-2.06 2.06-.94-2.06-.94-.94-2.06-.94 2.06-2.06.94zm-11 1L8.5 8.5l.94-2.06 2.06-.94-2.06-.94L8.5 2.5l-.94 2.06-2.06.94zm10 10l.94 2.06.94-2.06 2.06-.94-2.06-.94-.94-2.06-.94 2.06-2.06.94z\"/><path d=\"M17.41 7.96l-1.37-1.37c-.4-.4-.92-.59-1.43-.59-.52 0-1.04.2-1.43.59L10.3 9.45l-7.72 7.72c-.78.78-.78 2.05 0 2.83L4 21.41c.39.39.9.59 1.41.59.51 0 1.02-.2 1.41-.59l7.78-7.78 2.81-2.81c.8-.78.8-2.07 0-2.86zM5.41 20L4 18.59l7.72-7.72 1.47 1.35L5.41 20z\"/>\n",
              "  </svg>\n",
              "      </button>\n",
              "      \n",
              "  <style>\n",
              "    .colab-df-container {\n",
              "      display:flex;\n",
              "      flex-wrap:wrap;\n",
              "      gap: 12px;\n",
              "    }\n",
              "\n",
              "    .colab-df-convert {\n",
              "      background-color: #E8F0FE;\n",
              "      border: none;\n",
              "      border-radius: 50%;\n",
              "      cursor: pointer;\n",
              "      display: none;\n",
              "      fill: #1967D2;\n",
              "      height: 32px;\n",
              "      padding: 0 0 0 0;\n",
              "      width: 32px;\n",
              "    }\n",
              "\n",
              "    .colab-df-convert:hover {\n",
              "      background-color: #E2EBFA;\n",
              "      box-shadow: 0px 1px 2px rgba(60, 64, 67, 0.3), 0px 1px 3px 1px rgba(60, 64, 67, 0.15);\n",
              "      fill: #174EA6;\n",
              "    }\n",
              "\n",
              "    [theme=dark] .colab-df-convert {\n",
              "      background-color: #3B4455;\n",
              "      fill: #D2E3FC;\n",
              "    }\n",
              "\n",
              "    [theme=dark] .colab-df-convert:hover {\n",
              "      background-color: #434B5C;\n",
              "      box-shadow: 0px 1px 3px 1px rgba(0, 0, 0, 0.15);\n",
              "      filter: drop-shadow(0px 1px 2px rgba(0, 0, 0, 0.3));\n",
              "      fill: #FFFFFF;\n",
              "    }\n",
              "  </style>\n",
              "\n",
              "      <script>\n",
              "        const buttonEl =\n",
              "          document.querySelector('#df-8af748b8-c36b-4897-a87c-c4958744fd40 button.colab-df-convert');\n",
              "        buttonEl.style.display =\n",
              "          google.colab.kernel.accessAllowed ? 'block' : 'none';\n",
              "\n",
              "        async function convertToInteractive(key) {\n",
              "          const element = document.querySelector('#df-8af748b8-c36b-4897-a87c-c4958744fd40');\n",
              "          const dataTable =\n",
              "            await google.colab.kernel.invokeFunction('convertToInteractive',\n",
              "                                                     [key], {});\n",
              "          if (!dataTable) return;\n",
              "\n",
              "          const docLinkHtml = 'Like what you see? Visit the ' +\n",
              "            '<a target=\"_blank\" href=https://colab.research.google.com/notebooks/data_table.ipynb>data table notebook</a>'\n",
              "            + ' to learn more about interactive tables.';\n",
              "          element.innerHTML = '';\n",
              "          dataTable['output_type'] = 'display_data';\n",
              "          await google.colab.output.renderOutput(dataTable, element);\n",
              "          const docLink = document.createElement('div');\n",
              "          docLink.innerHTML = docLinkHtml;\n",
              "          element.appendChild(docLink);\n",
              "        }\n",
              "      </script>\n",
              "    </div>\n",
              "  </div>\n",
              "  "
            ]
          },
          "metadata": {},
          "execution_count": 43
        }
      ]
    },
    {
      "cell_type": "code",
      "source": [
        ""
      ],
      "metadata": {
        "id": "WzHP5Bd2EQOn"
      },
      "execution_count": null,
      "outputs": []
    }
  ]
}